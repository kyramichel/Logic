{
 "cells": [
  {
   "cell_type": "markdown",
   "id": "b51f3fc5",
   "metadata": {},
   "source": [
    "# Binary Logic - Boolean Operators "
   ]
  },
  {
   "cell_type": "markdown",
   "id": "ed91835d",
   "metadata": {},
   "source": [
    "#### Classical Propositional logic\n",
    "\n",
    "Classical logic is a 2-valued Logic: Truth value (denoted by 1) and False value (denoted by 0)\n",
    "\n",
    "Boolean operators (and, or, not) are used to compare the truth value of a proposition - see below Truth value table(s).\n",
    "\n",
    "Conjunction and disjunction are dual with respect to negation, which is expressed by De Morgan's laws.\n"
   ]
  },
  {
   "cell_type": "markdown",
   "id": "a26835e3",
   "metadata": {},
   "source": [
    "#### Boolean Valuation\n",
    "\n",
    "Propositional variables become variables in the Boolean domain. \n",
    "\n",
    "Assigning values for propositional variables is called valuation.\n"
   ]
  },
  {
   "cell_type": "markdown",
   "id": "374c88cf",
   "metadata": {},
   "source": [
    "#### Boolean values\n",
    "\n",
    "After a conditional expression is evaluated, its Boolean \n",
    "value (True (1) or False(0)) "
   ]
  },
  {
   "cell_type": "code",
   "execution_count": 3,
   "id": "41f75d0d",
   "metadata": {},
   "outputs": [
    {
     "data": {
      "text/plain": [
       "False"
      ]
     },
     "execution_count": 3,
     "metadata": {},
     "output_type": "execute_result"
    }
   ],
   "source": [
    "1 == 2"
   ]
  },
  {
   "cell_type": "code",
   "execution_count": 18,
   "id": "971ac43d",
   "metadata": {},
   "outputs": [
    {
     "data": {
      "text/plain": [
       "True"
      ]
     },
     "execution_count": 18,
     "metadata": {},
     "output_type": "execute_result"
    }
   ],
   "source": [
    "1!= 2"
   ]
  },
  {
   "cell_type": "code",
   "execution_count": 21,
   "id": "cf0ccacc",
   "metadata": {},
   "outputs": [
    {
     "data": {
      "text/plain": [
       "True"
      ]
     },
     "execution_count": 21,
     "metadata": {},
     "output_type": "execute_result"
    }
   ],
   "source": [
    "name = \"Kyra\"\n",
    "\n",
    "name != 'other'"
   ]
  },
  {
   "cell_type": "markdown",
   "id": "30ad9af5",
   "metadata": {},
   "source": [
    "Boolean Operators (and, or, and not) are used to compare Boolean \n",
    "values"
   ]
  },
  {
   "cell_type": "code",
   "execution_count": 13,
   "id": "056625d3",
   "metadata": {},
   "outputs": [
    {
     "data": {
      "text/plain": [
       "0"
      ]
     },
     "execution_count": 13,
     "metadata": {},
     "output_type": "execute_result"
    }
   ],
   "source": [
    "1 and 0"
   ]
  },
  {
   "cell_type": "code",
   "execution_count": 14,
   "id": "85f818dc",
   "metadata": {},
   "outputs": [
    {
     "data": {
      "text/plain": [
       "1"
      ]
     },
     "execution_count": 14,
     "metadata": {},
     "output_type": "execute_result"
    }
   ],
   "source": [
    "1 and 1"
   ]
  },
  {
   "cell_type": "code",
   "execution_count": 23,
   "id": "67e40515",
   "metadata": {},
   "outputs": [
    {
     "data": {
      "text/plain": [
       "False"
      ]
     },
     "execution_count": 23,
     "metadata": {},
     "output_type": "execute_result"
    }
   ],
   "source": [
    "(1 == 2) and (2>=1)"
   ]
  },
  {
   "cell_type": "markdown",
   "id": "252f1801",
   "metadata": {},
   "source": [
    "In programming, is an efficient way to track the state of a program or a particular condition eg"
   ]
  },
  {
   "cell_type": "code",
   "execution_count": 15,
   "id": "937f3243",
   "metadata": {},
   "outputs": [],
   "source": [
    "state = True"
   ]
  },
  {
   "cell_type": "markdown",
   "id": "2e4e905d",
   "metadata": {},
   "source": [
    "In Python, as in classical propositional logic, Boolean operators evaluate the validity of expressions to a Boolean value:"
   ]
  },
  {
   "cell_type": "code",
   "execution_count": 8,
   "id": "ee230ce0",
   "metadata": {},
   "outputs": [
    {
     "data": {
      "text/plain": [
       "True"
      ]
     },
     "execution_count": 8,
     "metadata": {},
     "output_type": "execute_result"
    }
   ],
   "source": [
    "True and True"
   ]
  },
  {
   "cell_type": "code",
   "execution_count": 10,
   "id": "9beec9a1",
   "metadata": {},
   "outputs": [
    {
     "data": {
      "text/plain": [
       "1"
      ]
     },
     "execution_count": 10,
     "metadata": {},
     "output_type": "execute_result"
    }
   ],
   "source": [
    "1 and 1"
   ]
  },
  {
   "cell_type": "code",
   "execution_count": 9,
   "id": "aadf6742",
   "metadata": {},
   "outputs": [
    {
     "data": {
      "text/plain": [
       "False"
      ]
     },
     "execution_count": 9,
     "metadata": {},
     "output_type": "execute_result"
    }
   ],
   "source": [
    "True and False"
   ]
  },
  {
   "cell_type": "code",
   "execution_count": 11,
   "id": "1ecab504",
   "metadata": {},
   "outputs": [
    {
     "data": {
      "text/plain": [
       "0"
      ]
     },
     "execution_count": 11,
     "metadata": {},
     "output_type": "execute_result"
    }
   ],
   "source": [
    "1 and 0"
   ]
  },
  {
   "attachments": {
    "BooleanOp.gif": {
     "image/gif": "[encoded data removed]"
    }
   },
   "cell_type": "markdown",
   "id": "282d6da6",
   "metadata": {},
   "source": [
    "Truth value table(s):\n",
    "\n",
    "![BooleanOp.gif](attachment:BooleanOp.gif)"
   ]
  },
  {
   "cell_type": "markdown",
   "id": "762d7dde",
   "metadata": {},
   "source": [
    "### Relation: Binay numbers - Boolean logic:\n",
    "\n",
    "In computer technology, Boolean operators (Boolean algebra of 0 and 1) are used in implementing digital logic gates in electronic hardware -  circuit diagrams where each gate implements a Boolean operation\n",
    "\n",
    "In programming, using Boolean operators to assess the truth value of Boolean expressions to control the course of action of a program \n",
    "\n",
    "https://learn.microsoft.com/en-us/dotnet/csharp/language-reference/operators/boolean-logical-operators#code-try-1"
   ]
  },
  {
   "cell_type": "code",
   "execution_count": null,
   "id": "322b35d5",
   "metadata": {},
   "outputs": [],
   "source": []
  }
 ],
 "metadata": {
  "kernelspec": {
   "display_name": "Python 3 (ipykernel)",
   "language": "python",
   "name": "python3"
  },
  "language_info": {
   "codemirror_mode": {
    "name": "ipython",
    "version": 3
   },
   "file_extension": ".py",
   "mimetype": "text/x-python",
   "name": "python",
   "nbconvert_exporter": "python",
   "pygments_lexer": "ipython3",
   "version": "3.9.12"
  }
 },
 "nbformat": 4,
 "nbformat_minor": 5
}
